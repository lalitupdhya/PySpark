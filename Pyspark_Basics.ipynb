{
 "cells": [
  {
   "cell_type": "code",
   "execution_count": 97,
   "metadata": {},
   "outputs": [],
   "source": [
    "from pyspark.sql import SparkSession"
   ]
  },
  {
   "cell_type": "code",
   "execution_count": 98,
   "metadata": {},
   "outputs": [],
   "source": [
    "spark = SparkSession.builder.appName('Basics').getOrCreate()"
   ]
  },
  {
   "cell_type": "code",
   "execution_count": 99,
   "metadata": {},
   "outputs": [],
   "source": [
    "df = spark.read.csv('master.csv',header = True)"
   ]
  },
  {
   "cell_type": "code",
   "execution_count": 100,
   "metadata": {
    "scrolled": true
   },
   "outputs": [
    {
     "name": "stdout",
     "output_type": "stream",
     "text": [
      "+-------+----+------+-----------+-----------+----------+-----------------+\n",
      "|country|year|   sex|        age|suicides_no|population|suicides/100k pop|\n",
      "+-------+----+------+-----------+-----------+----------+-----------------+\n",
      "|Albania|1987|  male|15-24 years|         21|    312900|             6.71|\n",
      "|Albania|1987|  male|35-54 years|         16|    308000|             5.19|\n",
      "|Albania|1987|female|15-24 years|         14|    289700|             4.83|\n",
      "|Albania|1987|  male|  75+ years|          1|     21800|             4.59|\n",
      "|Albania|1987|  male|25-34 years|          9|    274300|             3.28|\n",
      "|Albania|1987|female|  75+ years|          1|     35600|             2.81|\n",
      "|Albania|1987|female|35-54 years|          6|    278800|             2.15|\n",
      "|Albania|1987|female|25-34 years|          4|    257200|             1.56|\n",
      "|Albania|1987|  male|55-74 years|          1|    137500|             0.73|\n",
      "|Albania|1987|female| 5-14 years|          0|    311000|                0|\n",
      "|Albania|1987|female|55-74 years|          0|    144600|                0|\n",
      "|Albania|1987|  male| 5-14 years|          0|    338200|                0|\n",
      "|Albania|1988|female|  75+ years|          2|     36400|             5.49|\n",
      "|Albania|1988|  male|15-24 years|         17|    319200|             5.33|\n",
      "|Albania|1988|  male|  75+ years|          1|     22300|             4.48|\n",
      "|Albania|1988|  male|35-54 years|         14|    314100|             4.46|\n",
      "|Albania|1988|  male|55-74 years|          4|    140200|             2.85|\n",
      "|Albania|1988|female|15-24 years|          8|    295600|             2.71|\n",
      "|Albania|1988|female|55-74 years|          3|    147500|             2.03|\n",
      "|Albania|1988|female|25-34 years|          5|    262400|             1.91|\n",
      "+-------+----+------+-----------+-----------+----------+-----------------+\n",
      "only showing top 20 rows\n",
      "\n"
     ]
    }
   ],
   "source": [
    "df.show()"
   ]
  },
  {
   "cell_type": "code",
   "execution_count": 101,
   "metadata": {},
   "outputs": [
    {
     "name": "stdout",
     "output_type": "stream",
     "text": [
      "root\n",
      " |-- country: string (nullable = true)\n",
      " |-- year: string (nullable = true)\n",
      " |-- sex: string (nullable = true)\n",
      " |-- age: string (nullable = true)\n",
      " |-- suicides_no: string (nullable = true)\n",
      " |-- population: string (nullable = true)\n",
      " |-- suicides/100k pop: string (nullable = true)\n",
      "\n"
     ]
    }
   ],
   "source": [
    "df.printSchema()"
   ]
  },
  {
   "cell_type": "code",
   "execution_count": 102,
   "metadata": {},
   "outputs": [
    {
     "data": {
      "text/plain": [
       "['country',\n",
       " 'year',\n",
       " 'sex',\n",
       " 'age',\n",
       " 'suicides_no',\n",
       " 'population',\n",
       " 'suicides/100k pop']"
      ]
     },
     "execution_count": 102,
     "metadata": {},
     "output_type": "execute_result"
    }
   ],
   "source": [
    "df.columns"
   ]
  },
  {
   "cell_type": "code",
   "execution_count": 103,
   "metadata": {},
   "outputs": [
    {
     "name": "stdout",
     "output_type": "stream",
     "text": [
      "+-------+----------+------------------+------+-----------+------------------+------------------+------------------+\n",
      "|summary|   country|              year|   sex|        age|       suicides_no|        population| suicides/100k pop|\n",
      "+-------+----------+------------------+------+-----------+------------------+------------------+------------------+\n",
      "|  count|     27820|             27820| 27820|      27820|             27820|             27820|             27820|\n",
      "|   mean|      null|2001.2583752695903|  null|       null|242.57440690150972|1844793.6173975556|12.816097411933894|\n",
      "| stddev|      null| 8.469055024441408|  null|       null| 902.0479168336403|3911779.4417563565| 18.96151101450326|\n",
      "|    min|   Albania|              1985|female|15-24 years|                 0|              1000|                 0|\n",
      "|    max|Uzbekistan|              2016|  male|  75+ years|               999|            999700|             99.99|\n",
      "+-------+----------+------------------+------+-----------+------------------+------------------+------------------+\n",
      "\n"
     ]
    }
   ],
   "source": [
    "df.describe().show()"
   ]
  },
  {
   "cell_type": "code",
   "execution_count": 104,
   "metadata": {},
   "outputs": [],
   "source": [
    "from pyspark.sql.types import StructField, StructType, StringType, IntegerType, FloatType"
   ]
  },
  {
   "cell_type": "code",
   "execution_count": 105,
   "metadata": {},
   "outputs": [],
   "source": [
    "data_schema = [StructField('country', StringType(), True),\n",
    "                  StructField('year', StringType(),True),\n",
    "              StructField('sex', StringType(),True), StructField('age',StringType(),True),\n",
    "              StructField('suicides_no', IntegerType(),True), StructField('population', IntegerType(),True),\n",
    "              StructField('suicides/100k pop', FloatType(), True)]"
   ]
  },
  {
   "cell_type": "code",
   "execution_count": 106,
   "metadata": {},
   "outputs": [],
   "source": [
    "final_struc = StructType(fields = data_schema)"
   ]
  },
  {
   "cell_type": "code",
   "execution_count": 107,
   "metadata": {},
   "outputs": [],
   "source": [
    "df = spark.read.csv('master.csv', schema = final_struc)"
   ]
  },
  {
   "cell_type": "code",
   "execution_count": 108,
   "metadata": {},
   "outputs": [
    {
     "name": "stdout",
     "output_type": "stream",
     "text": [
      "root\n",
      " |-- country: string (nullable = true)\n",
      " |-- year: string (nullable = true)\n",
      " |-- sex: string (nullable = true)\n",
      " |-- age: string (nullable = true)\n",
      " |-- suicides_no: integer (nullable = true)\n",
      " |-- population: integer (nullable = true)\n",
      " |-- suicides/100k pop: float (nullable = true)\n",
      "\n"
     ]
    }
   ],
   "source": [
    "df.printSchema()"
   ]
  },
  {
   "cell_type": "code",
   "execution_count": 109,
   "metadata": {},
   "outputs": [
    {
     "name": "stdout",
     "output_type": "stream",
     "text": [
      "+-------+----+------+-----------+-----------+----------+-----------------+\n",
      "|country|year|   sex|        age|suicides_no|population|suicides/100k pop|\n",
      "+-------+----+------+-----------+-----------+----------+-----------------+\n",
      "|   null|null|  null|       null|       null|      null|             null|\n",
      "|Albania|1987|  male|15-24 years|         21|    312900|             6.71|\n",
      "|Albania|1987|  male|35-54 years|         16|    308000|             5.19|\n",
      "|Albania|1987|female|15-24 years|         14|    289700|             4.83|\n",
      "|Albania|1987|  male|  75+ years|          1|     21800|             4.59|\n",
      "+-------+----+------+-----------+-----------+----------+-----------------+\n",
      "only showing top 5 rows\n",
      "\n"
     ]
    }
   ],
   "source": [
    "df.show(5)"
   ]
  },
  {
   "cell_type": "code",
   "execution_count": 110,
   "metadata": {},
   "outputs": [
    {
     "data": {
      "text/plain": [
       "['country',\n",
       " 'year',\n",
       " 'sex',\n",
       " 'age',\n",
       " 'suicides_no',\n",
       " 'population',\n",
       " 'suicides/100k pop']"
      ]
     },
     "execution_count": 110,
     "metadata": {},
     "output_type": "execute_result"
    }
   ],
   "source": [
    "df.columns"
   ]
  },
  {
   "cell_type": "code",
   "execution_count": 111,
   "metadata": {
    "scrolled": true
   },
   "outputs": [
    {
     "name": "stdout",
     "output_type": "stream",
     "text": [
      "+-----------+\n",
      "|        age|\n",
      "+-----------+\n",
      "|        age|\n",
      "|15-24 years|\n",
      "|35-54 years|\n",
      "|15-24 years|\n",
      "|  75+ years|\n",
      "+-----------+\n",
      "only showing top 5 rows\n",
      "\n"
     ]
    }
   ],
   "source": [
    "df.select('age').show(5)"
   ]
  },
  {
   "cell_type": "code",
   "execution_count": 112,
   "metadata": {},
   "outputs": [
    {
     "data": {
      "text/plain": [
       "Row(country=None, year=None, sex=None, age=None, suicides_no=None, population=None, suicides/100k pop=None)"
      ]
     },
     "execution_count": 112,
     "metadata": {},
     "output_type": "execute_result"
    }
   ],
   "source": [
    "df.head(2)[0]"
   ]
  },
  {
   "cell_type": "code",
   "execution_count": 113,
   "metadata": {},
   "outputs": [
    {
     "name": "stdout",
     "output_type": "stream",
     "text": [
      "+-----------+----------+\n",
      "|        age|population|\n",
      "+-----------+----------+\n",
      "|       null|      null|\n",
      "|15-24 years|    312900|\n",
      "|35-54 years|    308000|\n",
      "|15-24 years|    289700|\n",
      "|  75+ years|     21800|\n",
      "+-----------+----------+\n",
      "only showing top 5 rows\n",
      "\n"
     ]
    }
   ],
   "source": [
    "df.select(['age','population']).show(5)"
   ]
  },
  {
   "cell_type": "code",
   "execution_count": 114,
   "metadata": {},
   "outputs": [
    {
     "name": "stdout",
     "output_type": "stream",
     "text": [
      "+-------+----+------+-----------+-----------+----------+-----------------+---------------+\n",
      "|country|year|   sex|        age|suicides_no|population|suicides/100k pop|double_suicides|\n",
      "+-------+----+------+-----------+-----------+----------+-----------------+---------------+\n",
      "|   null|null|  null|       null|       null|      null|             null|           null|\n",
      "|Albania|1987|  male|15-24 years|         21|    312900|             6.71|             42|\n",
      "|Albania|1987|  male|35-54 years|         16|    308000|             5.19|             32|\n",
      "|Albania|1987|female|15-24 years|         14|    289700|             4.83|             28|\n",
      "|Albania|1987|  male|  75+ years|          1|     21800|             4.59|              2|\n",
      "+-------+----+------+-----------+-----------+----------+-----------------+---------------+\n",
      "only showing top 5 rows\n",
      "\n"
     ]
    }
   ],
   "source": [
    "df.withColumn('double_suicides',df['suicides_no']*2).show(5)"
   ]
  },
  {
   "cell_type": "code",
   "execution_count": 115,
   "metadata": {},
   "outputs": [
    {
     "name": "stdout",
     "output_type": "stream",
     "text": [
      "+-------+----+------+-----------+-----------+----------+-----------------+\n",
      "|country|year|   sex|        age|suicides_no|population|suicides/100k pop|\n",
      "+-------+----+------+-----------+-----------+----------+-----------------+\n",
      "|   null|null|  null|       null|       null|      null|             null|\n",
      "|Albania|1987|  male|15-24 years|         21|    312900|             6.71|\n",
      "|Albania|1987|  male|35-54 years|         16|    308000|             5.19|\n",
      "|Albania|1987|female|15-24 years|         14|    289700|             4.83|\n",
      "|Albania|1987|  male|  75+ years|          1|     21800|             4.59|\n",
      "|Albania|1987|  male|25-34 years|          9|    274300|             3.28|\n",
      "|Albania|1987|female|  75+ years|          1|     35600|             2.81|\n",
      "|Albania|1987|female|35-54 years|          6|    278800|             2.15|\n",
      "|Albania|1987|female|25-34 years|          4|    257200|             1.56|\n",
      "|Albania|1987|  male|55-74 years|          1|    137500|             0.73|\n",
      "|Albania|1987|female| 5-14 years|          0|    311000|              0.0|\n",
      "|Albania|1987|female|55-74 years|          0|    144600|              0.0|\n",
      "|Albania|1987|  male| 5-14 years|          0|    338200|              0.0|\n",
      "|Albania|1988|female|  75+ years|          2|     36400|             5.49|\n",
      "|Albania|1988|  male|15-24 years|         17|    319200|             5.33|\n",
      "|Albania|1988|  male|  75+ years|          1|     22300|             4.48|\n",
      "|Albania|1988|  male|35-54 years|         14|    314100|             4.46|\n",
      "|Albania|1988|  male|55-74 years|          4|    140200|             2.85|\n",
      "|Albania|1988|female|15-24 years|          8|    295600|             2.71|\n",
      "|Albania|1988|female|55-74 years|          3|    147500|             2.03|\n",
      "+-------+----+------+-----------+-----------+----------+-----------------+\n",
      "only showing top 20 rows\n",
      "\n"
     ]
    }
   ],
   "source": [
    "df.show()"
   ]
  },
  {
   "cell_type": "code",
   "execution_count": 116,
   "metadata": {},
   "outputs": [],
   "source": [
    "df.createOrReplaceTempView('people')"
   ]
  },
  {
   "cell_type": "code",
   "execution_count": 131,
   "metadata": {},
   "outputs": [],
   "source": [
    "results = spark.sql('select * from people where year=1987 and sex = \"male\" and suicides_no=21')"
   ]
  },
  {
   "cell_type": "code",
   "execution_count": 132,
   "metadata": {},
   "outputs": [
    {
     "name": "stdout",
     "output_type": "stream",
     "text": [
      "+---------+----+----+-----------+-----------+----------+-----------------+\n",
      "|  country|year| sex|        age|suicides_no|population|suicides/100k pop|\n",
      "+---------+----+----+-----------+-----------+----------+-----------------+\n",
      "|  Albania|1987|male|15-24 years|         21|    312900|             6.71|\n",
      "|Mauritius|1987|male|25-34 years|         21|     91300|             23.0|\n",
      "|Singapore|1987|male|15-24 years|         21|    253600|             8.28|\n",
      "+---------+----+----+-----------+-----------+----------+-----------------+\n",
      "\n"
     ]
    }
   ],
   "source": [
    "results.show()"
   ]
  },
  {
   "cell_type": "code",
   "execution_count": null,
   "metadata": {},
   "outputs": [],
   "source": []
  }
 ],
 "metadata": {
  "kernelspec": {
   "display_name": "Python 3",
   "language": "python",
   "name": "python3"
  },
  "language_info": {
   "codemirror_mode": {
    "name": "ipython",
    "version": 3
   },
   "file_extension": ".py",
   "mimetype": "text/x-python",
   "name": "python",
   "nbconvert_exporter": "python",
   "pygments_lexer": "ipython3",
   "version": "3.7.5"
  }
 },
 "nbformat": 4,
 "nbformat_minor": 4
}
